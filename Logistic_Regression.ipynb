{
  "nbformat": 4,
  "nbformat_minor": 0,
  "metadata": {
    "colab": {
      "provenance": []
    },
    "kernelspec": {
      "name": "python3",
      "display_name": "Python 3"
    },
    "language_info": {
      "name": "python"
    }
  },
  "cells": [
    {
      "cell_type": "code",
      "execution_count": null,
      "metadata": {
        "colab": {
          "base_uri": "https://localhost:8080/"
        },
        "id": "xu4GNDUYC1Fy",
        "outputId": "8d7e4be0-b69b-4d48-8957-15e5e56600e4"
      },
      "outputs": [
        {
          "output_type": "stream",
          "name": "stdout",
          "text": [
            "   age  gender   genre\n",
            "0   20       1  HipHop\n",
            "1   23       1  HipHop\n",
            "2   25       1  HipHop\n",
            "3   26       1    Jazz\n",
            "4   29       1    Jazz\n",
            "Predicted genre: ['Dance']\n"
          ]
        },
        {
          "output_type": "stream",
          "name": "stderr",
          "text": [
            "/usr/local/lib/python3.10/dist-packages/sklearn/linear_model/_logistic.py:458: ConvergenceWarning: lbfgs failed to converge (status=1):\n",
            "STOP: TOTAL NO. of ITERATIONS REACHED LIMIT.\n",
            "\n",
            "Increase the number of iterations (max_iter) or scale the data as shown in:\n",
            "    https://scikit-learn.org/stable/modules/preprocessing.html\n",
            "Please also refer to the documentation for alternative solver options:\n",
            "    https://scikit-learn.org/stable/modules/linear_model.html#logistic-regression\n",
            "  n_iter_i = _check_optimize_result(\n",
            "/usr/local/lib/python3.10/dist-packages/sklearn/base.py:439: UserWarning: X does not have valid feature names, but LogisticRegression was fitted with feature names\n",
            "  warnings.warn(\n"
          ]
        }
      ],
      "source": [
        "import pandas as pd\n",
        "from sklearn.model_selection import train_test_split\n",
        "from sklearn.linear_model import LogisticRegression\n",
        "\n",
        "df=pd.read_csv('music.csv')\n",
        "print(df.head(n=5))\n",
        "x=df.drop(columns=['genre'])\n",
        "y=df['genre']\n",
        "x_train, x_test, y_train, y_test = train_test_split(x,y,test_size=0.4)\n",
        "\n",
        "model=LogisticRegression()\n",
        "model.fit(x_train,y_train)\n",
        "predictions=model.predict([[21 , 1]])\n",
        "print('Predicted genre:',predictions)"
      ]
    },
    {
      "cell_type": "code",
      "source": [
        "# make class predictions for the testing set\n",
        "y_pred_class = model.predict(x_test)\n",
        "# calculate accuracy\n",
        "from sklearn import metrics\n",
        "print(metrics.accuracy_score(y_test, y_pred_class))\n",
        "\n",
        "print(metrics.confusion_matrix(y_test, y_pred_class))"
      ],
      "metadata": {
        "colab": {
          "base_uri": "https://localhost:8080/"
        },
        "id": "qbbXkg4_3M37",
        "outputId": "eb6786a1-c7f0-4d58-ecdc-69a8db222b8b"
      },
      "execution_count": null,
      "outputs": [
        {
          "output_type": "stream",
          "name": "stdout",
          "text": [
            "0.375\n",
            "[[0 0 1 0 2]\n",
            " [0 3 0 0 0]\n",
            " [0 0 0 0 0]\n",
            " [0 0 1 0 1]\n",
            " [0 0 0 0 0]]\n"
          ]
        }
      ]
    }
  ]
}